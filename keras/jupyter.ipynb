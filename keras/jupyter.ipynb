{
 "cells": [
  {
   "cell_type": "code",
   "execution_count": null,
   "metadata": {},
   "outputs": [],
   "source": [
    "import tensorflow\n",
    "import matplotlib.pyplot as plt\n",
    "import sklearn\n",
    "import pandas\n",
    "import numpy\n",
    "import json\n",
    "import os\n",
    "import PIL\n",
    "from tensorflow.keras.layers import Conv2D, MaxPooling2D, Flatten, Dense, Activation\n",
    "from tensorflow.keras.layers.experimental.preprocessing import Rescaling\n",
    "from PIL import Image\n",
    "from tensorflow.keras.preprocessing import image\n",
    "from tensorflow.keras.applications.vgg16 import preprocess_input\n",
    "from datetime import datetime\n",
    "from sklearn.model_selection import train_test_split\n"
   ]
  },
  {
   "cell_type": "markdown",
   "metadata": {},
   "source": [
    "De gebruikte afbeeldingen zijn 128x128 met 3 kleur kanalen (RGB)"
   ]
  },
  {
   "cell_type": "code",
   "execution_count": null,
   "metadata": {},
   "outputs": [],
   "source": [
    "image_width = 128\n",
    "image_height = 128\n",
    "image_channels = 3"
   ]
  },
  {
   "cell_type": "code",
   "execution_count": null,
   "metadata": {},
   "outputs": [],
   "source": [
    "batch_size = 2\n",
    "epochs = 10"
   ]
  },
  {
   "cell_type": "code",
   "execution_count": null,
   "metadata": {},
   "outputs": [],
   "source": [
    "model = tensorflow.keras.Sequential()"
   ]
  },
  {
   "cell_type": "code",
   "execution_count": null,
   "metadata": {},
   "outputs": [],
   "source": [
    "model.add(Rescaling(1./255, input_shape=(image_height, image_width, 3)))"
   ]
  },
  {
   "cell_type": "code",
   "execution_count": null,
   "metadata": {},
   "outputs": [],
   "source": [
    "model.add(Conv2D(32, (3,3), input_shape = (image_width, image_height, image_channels)))\n",
    "model.add(Activation('relu'))\n",
    "model.add(MaxPooling2D(pool_size = (2, 2)))"
   ]
  },
  {
   "cell_type": "code",
   "execution_count": null,
   "metadata": {},
   "outputs": [],
   "source": [
    "model.add(Conv2D(32, (3,3), input_shape = (image_width, image_height, image_channels)))\n",
    "model.add(Activation('relu'))\n",
    "model.add(MaxPooling2D(pool_size = (2, 2)))"
   ]
  },
  {
   "cell_type": "code",
   "execution_count": null,
   "metadata": {},
   "outputs": [],
   "source": [
    "model.add(Flatten())\n",
    "model.add(Dense(64))"
   ]
  },
  {
   "cell_type": "code",
   "execution_count": null,
   "metadata": {},
   "outputs": [],
   "source": [
    "model.add(Dense(1))\n",
    "model.add(Activation('sigmoid'))"
   ]
  },
  {
   "cell_type": "code",
   "execution_count": null,
   "metadata": {},
   "outputs": [],
   "source": [
    "model.compile(loss = 'binary_crossentropy', optimizer = 'rmsprop', metrics = ['accuracy'])"
   ]
  },
  {
   "cell_type": "markdown",
   "metadata": {},
   "source": [
    "Een custom callback om inzichtelijk te maken hoe het trainen werkt"
   ]
  },
  {
   "cell_type": "code",
   "execution_count": null,
   "metadata": {},
   "outputs": [],
   "source": [
    "class CustomCallback(tensorflow.keras.callbacks.Callback):\n",
    "    \n",
    "    def on_train_begin(self, logs = None):\n",
    "        print(\"Starting training\")\n",
    "        \n",
    "    def on_train_end(self, logs = None):\n",
    "        print(\"Stopped training\")\n",
    "        \n",
    "    def on_epoch_begin(self, epoch, logs = None):\n",
    "        print(\"Epoch begin\")\n",
    "        \n",
    "    def on_epoch_end(self, epoch, logs = None):\n",
    "        print(\"Epoch end\")\n",
    "    \n",
    "    def on_test_begin(self, logs = None):\n",
    "        print(\"Test start\")\n",
    "        \n",
    "    def on_test_end(self, logs = None):\n",
    "        print(\"Test end\")\n",
    "        \n",
    "    def on_predict_begin(self, logs = None):\n",
    "        print(\"Predicting\")\n",
    "        \n",
    "    def on_predict_end(self, logs = None):\n",
    "        print(\"End predicting\")\n",
    "    \n",
    "    def on_train_batch_begin(self, batch, logs=None):\n",
    "        print(\"Train batch begin\")\n",
    "\n",
    "    def on_train_batch_end(self, batch, logs=None):\n",
    "        print(\"Train batch end\")\n",
    "\n",
    "    def on_test_batch_begin(self, batch, logs=None):\n",
    "        print(\"Test batch begin\")\n",
    "\n",
    "    def on_test_batch_end(self, batch, logs=None):\n",
    "        print(\"Test batch end\")\n",
    "\n",
    "    def on_predict_batch_begin(self, batch, logs=None):\n",
    "        print(\"Predict batch begin\")\n",
    "\n",
    "    def on_predict_batch_end(self, batch, logs=None):\n",
    "        print(\"Predict batch end\")"
   ]
  },
  {
   "cell_type": "markdown",
   "metadata": {},
   "source": [
    "De datasets worden uit de train- en validatie mappen gehaald. Hierbij wordt een gedeelte van de data gebruikt per epoch om het trainen te versnellen "
   ]
  },
  {
   "cell_type": "code",
   "execution_count": null,
   "metadata": {
    "scrolled": true
   },
   "outputs": [],
   "source": [
    "\n",
    "\n",
    "train_ds = tensorflow.keras.preprocessing.image_dataset_from_directory(\n",
    "  \"./humans/train/\",\n",
    "  validation_split = 0.8,\n",
    "  subset = \"training\",\n",
    "  seed = 123,\n",
    "  image_size = (image_height, image_width),\n",
    "  batch_size = batch_size)\n",
    "\n",
    "val_ds = tensorflow.keras.preprocessing.image_dataset_from_directory(\n",
    "  \"./humans/validation/\",\n",
    "  validation_split = 0.8,\n",
    "  subset = \"validation\",\n",
    "  seed = 123,\n",
    "  image_size = (image_height, image_width),\n",
    "  batch_size = batch_size)\n"
   ]
  },
  {
   "cell_type": "code",
   "execution_count": null,
   "metadata": {},
   "outputs": [],
   "source": [
    "history = model.fit(\n",
    "  train_ds,\n",
    "  validation_data = val_ds,\n",
    "  epochs = epochs,\n",
    "  callbacks = [CustomCallback()],\n",
    ")\n",
    "model.save(\"testen\")"
   ]
  },
  {
   "cell_type": "code",
   "execution_count": null,
   "metadata": {},
   "outputs": [],
   "source": [
    "accuracy = history.history['accuracy']\n",
    "validation_accuracy = history.history['val_accuracy']\n",
    "loss = history.history['loss']\n",
    "validation_loss = history.history['val_loss']"
   ]
  },
  {
   "cell_type": "code",
   "execution_count": null,
   "metadata": {},
   "outputs": [],
   "source": [
    "epochs_range = range(epochs)"
   ]
  },
  {
   "cell_type": "code",
   "execution_count": null,
   "metadata": {
    "scrolled": true
   },
   "outputs": [],
   "source": [
    "plt.figure(figsize = (8, 8))\n",
    "plt.subplot(1, 2, 1)\n",
    "plt.plot(epochs_range, accuracy, label = 'Training accuracy')\n",
    "plt.plot(epochs_range, validation_accuracy, label = 'Validation accuracy')\n",
    "plt.legend(loc = 'lower right')\n",
    "plt.title('Training en validation accuracy')\n",
    "\n",
    "plt.subplot(1, 2, 2)\n",
    "plt.plot(epochs_range, loss, label = 'Training Loss')\n",
    "plt.plot(epochs_range, validation_loss, label = 'Validation loss')\n",
    "plt.legend(loc = 'upper right')\n",
    "plt.title('Training en validation Loss')\n",
    "plt.show()"
   ]
  },
  {
   "cell_type": "code",
   "execution_count": null,
   "metadata": {},
   "outputs": [],
   "source": []
  }
 ],
 "metadata": {
  "kernelspec": {
   "display_name": "Python 3",
   "language": "python",
   "name": "python3"
  },
  "language_info": {
   "codemirror_mode": {
    "name": "ipython",
    "version": 3
   },
   "file_extension": ".py",
   "mimetype": "text/x-python",
   "name": "python",
   "nbconvert_exporter": "python",
   "pygments_lexer": "ipython3",
   "version": "3.6.9"
  }
 },
 "nbformat": 4,
 "nbformat_minor": 2
}
